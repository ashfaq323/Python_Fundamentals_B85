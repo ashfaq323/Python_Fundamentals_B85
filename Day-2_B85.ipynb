{
 "cells": [
  {
   "cell_type": "code",
   "execution_count": 2,
   "id": "a9cc0b98",
   "metadata": {},
   "outputs": [
    {
     "name": "stdout",
     "output_type": "stream",
     "text": [
      "30\n"
     ]
    }
   ],
   "source": [
    "x=10\n",
    "y=20\n",
    "z=x+y\n",
    "print(z)"
   ]
  },
  {
   "cell_type": "code",
   "execution_count": null,
   "id": "c42b6fd6",
   "metadata": {},
   "outputs": [],
   "source": [
    "Rule2= variable name shouldnot start with number"
   ]
  },
  {
   "cell_type": "code",
   "execution_count": 7,
   "id": "7642e602",
   "metadata": {},
   "outputs": [
    {
     "ename": "SyntaxError",
     "evalue": "invalid decimal literal (1463167969.py, line 1)",
     "output_type": "error",
     "traceback": [
      "\u001b[1;36m  Cell \u001b[1;32mIn[7], line 1\u001b[1;36m\u001b[0m\n\u001b[1;33m    1name= 'ash'\u001b[0m\n\u001b[1;37m    ^\u001b[0m\n\u001b[1;31mSyntaxError\u001b[0m\u001b[1;31m:\u001b[0m invalid decimal literal\n"
     ]
    }
   ],
   "source": [
    "1name='ash'\n",
    "print(1name)"
   ]
  },
  {
   "cell_type": "code",
   "execution_count": null,
   "id": "7d327ff5",
   "metadata": {},
   "outputs": [],
   "source": [
    "Rule3= Variable name should not contain any special characters"
   ]
  },
  {
   "cell_type": "code",
   "execution_count": null,
   "id": "1a0b6763",
   "metadata": {},
   "outputs": [],
   "source": [
    "Ex: %&*()$"
   ]
  },
  {
   "cell_type": "code",
   "execution_count": 8,
   "id": "1fb1fee8",
   "metadata": {},
   "outputs": [
    {
     "ename": "NameError",
     "evalue": "name 'name' is not defined",
     "output_type": "error",
     "traceback": [
      "\u001b[1;31m---------------------------------------------------------------------------\u001b[0m",
      "\u001b[1;31mNameError\u001b[0m                                 Traceback (most recent call last)",
      "Cell \u001b[1;32mIn[8], line 1\u001b[0m\n\u001b[1;32m----> 1\u001b[0m name\n",
      "\u001b[1;31mNameError\u001b[0m: name 'name' is not defined"
     ]
    }
   ],
   "source": [
    "name#= 'ash'"
   ]
  },
  {
   "cell_type": "code",
   "execution_count": 9,
   "id": "1c281262",
   "metadata": {},
   "outputs": [
    {
     "ename": "SyntaxError",
     "evalue": "incomplete input (2247231166.py, line 1)",
     "output_type": "error",
     "traceback": [
      "\u001b[1;36m  Cell \u001b[1;32mIn[9], line 1\u001b[1;36m\u001b[0m\n\u001b[1;33m    print(name#)\u001b[0m\n\u001b[1;37m                ^\u001b[0m\n\u001b[1;31mSyntaxError\u001b[0m\u001b[1;31m:\u001b[0m incomplete input\n"
     ]
    }
   ],
   "source": [
    "print(name#)"
   ]
  },
  {
   "cell_type": "code",
   "execution_count": 10,
   "id": "170608ac",
   "metadata": {},
   "outputs": [
    {
     "name": "stdout",
     "output_type": "stream",
     "text": [
      "ash\n"
     ]
    }
   ],
   "source": [
    "name=\"ash\"\n",
    "print(name)"
   ]
  },
  {
   "cell_type": "code",
   "execution_count": 11,
   "id": "696decdb",
   "metadata": {},
   "outputs": [
    {
     "name": "stdout",
     "output_type": "stream",
     "text": [
      "ash2\n"
     ]
    }
   ],
   "source": [
    "name2=\"ash2\"\n",
    "print(name2)"
   ]
  },
  {
   "cell_type": "code",
   "execution_count": null,
   "id": "4bbd15ed",
   "metadata": {},
   "outputs": [],
   "source": [
    "# Introduction to String Method"
   ]
  },
  {
   "cell_type": "code",
   "execution_count": 18,
   "id": "803e97d7",
   "metadata": {},
   "outputs": [
    {
     "name": "stdout",
     "output_type": "stream",
     "text": [
      "mohammed ashfaq\n"
     ]
    }
   ],
   "source": [
    "fullname='mohammed ashfaq'\n",
    "print(fullname)"
   ]
  },
  {
   "cell_type": "code",
   "execution_count": null,
   "id": "250ae186",
   "metadata": {},
   "outputs": [],
   "source": [
    "# Correct the format"
   ]
  },
  {
   "cell_type": "code",
   "execution_count": 19,
   "id": "011dbc0f",
   "metadata": {},
   "outputs": [
    {
     "name": "stdout",
     "output_type": "stream",
     "text": [
      "Mohammed Ashfaq\n"
     ]
    }
   ],
   "source": [
    "print(fullname.title())"
   ]
  },
  {
   "cell_type": "code",
   "execution_count": null,
   "id": "ac700300",
   "metadata": {},
   "outputs": [],
   "source": [
    "# Capital Letters"
   ]
  },
  {
   "cell_type": "code",
   "execution_count": 20,
   "id": "a5a414dd",
   "metadata": {},
   "outputs": [
    {
     "name": "stdout",
     "output_type": "stream",
     "text": [
      "MOHAMMED ASHFAQ\n"
     ]
    }
   ],
   "source": [
    "print(fullname.upper())"
   ]
  },
  {
   "cell_type": "code",
   "execution_count": 21,
   "id": "92b87feb",
   "metadata": {},
   "outputs": [
    {
     "name": "stdout",
     "output_type": "stream",
     "text": [
      "mohammed ashfaq\n"
     ]
    }
   ],
   "source": [
    "print(fullname.lower())"
   ]
  },
  {
   "cell_type": "code",
   "execution_count": 25,
   "id": "7d6a3c21",
   "metadata": {},
   "outputs": [],
   "source": [
    "EmployeeName='asHrA'"
   ]
  },
  {
   "cell_type": "code",
   "execution_count": 27,
   "id": "36290eb8",
   "metadata": {},
   "outputs": [
    {
     "name": "stdout",
     "output_type": "stream",
     "text": [
      "asHrA\n"
     ]
    }
   ],
   "source": [
    "print(EmployeeName)"
   ]
  },
  {
   "cell_type": "code",
   "execution_count": 28,
   "id": "95c74b5c",
   "metadata": {},
   "outputs": [
    {
     "name": "stdout",
     "output_type": "stream",
     "text": [
      "ashra\n"
     ]
    }
   ],
   "source": [
    "print(EmployeeName.lower())"
   ]
  },
  {
   "cell_type": "code",
   "execution_count": 29,
   "id": "db0cf790",
   "metadata": {},
   "outputs": [
    {
     "name": "stdout",
     "output_type": "stream",
     "text": [
      "ASHRA\n"
     ]
    }
   ],
   "source": [
    "print(EmployeeName.upper())"
   ]
  }
 ],
 "metadata": {
  "kernelspec": {
   "display_name": "Python 3 (ipykernel)",
   "language": "python",
   "name": "python3"
  },
  "language_info": {
   "codemirror_mode": {
    "name": "ipython",
    "version": 3
   },
   "file_extension": ".py",
   "mimetype": "text/x-python",
   "name": "python",
   "nbconvert_exporter": "python",
   "pygments_lexer": "ipython3",
   "version": "3.11.5"
  }
 },
 "nbformat": 4,
 "nbformat_minor": 5
}
